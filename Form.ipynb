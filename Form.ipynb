{
 "cells": [
  {
   "cell_type": "code",
   "execution_count": 1,
   "metadata": {},
   "outputs": [],
   "source": [
    "import pandas as pd\n",
    "import numpy as np\n",
    "import random\n",
    "import copy "
   ]
  },
  {
   "cell_type": "code",
   "execution_count": 2,
   "metadata": {},
   "outputs": [],
   "source": [
    "scommesse = pd.read_csv(\"Tappa 1.csv\")\n",
    "vincitore = pd.read_csv(\"tappa1.csv\")[['Corridore']]\n",
    "\n",
    "scommesse.columns = ['Tempo', 'Concorrente', 'Jolly', 'Scelta', 'Secondascelta']\n",
    "scommesse = scommesse.sort_values(by=['Concorrente'])\n",
    "punt = [0] * 14\n",
    "scommesse['Punteggio'] = punt"
   ]
  },
  {
   "cell_type": "code",
   "execution_count": 3,
   "metadata": {},
   "outputs": [
    {
     "name": "stderr",
     "output_type": "stream",
     "text": [
      "C:\\ProgramData\\Anaconda3\\lib\\site-packages\\ipykernel_launcher.py:13: SettingWithCopyWarning: \n",
      "A value is trying to be set on a copy of a slice from a DataFrame\n",
      "\n",
      "See the caveats in the documentation: http://pandas.pydata.org/pandas-docs/stable/indexing.html#indexing-view-versus-copy\n",
      "  del sys.path[0]\n"
     ]
    }
   ],
   "source": [
    "Ap = scommesse.Scelta[scommesse['Secondascelta'].isnull() == False]\n",
    "Bp = scommesse.Secondascelta[scommesse['Secondascelta'].isnull() == False]\n",
    "A = list(Ap)\n",
    "B = list(Bp)\n",
    "indiA = [0] *len(A)\n",
    "indiB = [0] *len(A)\n",
    "for k in range(len(A)):\n",
    "    indiA[k] = [i for i,x in enumerate(vincitore.Corridore) if x == A[k]][0]\n",
    "    indiB[k] = [i for i,x in enumerate(vincitore.Corridore) if x == B[k]][0]\n",
    "\n",
    "boh = pd.Series(indiA) > pd.Series(indiB)\n",
    "Ap[list(boh)] = Bp[list(boh)]\n",
    "scommesse.Scelta[scommesse['Secondascelta'].isnull() == False] = Ap"
   ]
  },
  {
   "cell_type": "code",
   "execution_count": 4,
   "metadata": {},
   "outputs": [
    {
     "name": "stderr",
     "output_type": "stream",
     "text": [
      "C:\\ProgramData\\Anaconda3\\lib\\site-packages\\ipykernel_launcher.py:5: SettingWithCopyWarning: \n",
      "A value is trying to be set on a copy of a slice from a DataFrame\n",
      "\n",
      "See the caveats in the documentation: http://pandas.pydata.org/pandas-docs/stable/indexing.html#indexing-view-versus-copy\n",
      "  \"\"\"\n",
      "C:\\ProgramData\\Anaconda3\\lib\\site-packages\\ipykernel_launcher.py:8: SettingWithCopyWarning: \n",
      "A value is trying to be set on a copy of a slice from a DataFrame\n",
      "\n",
      "See the caveats in the documentation: http://pandas.pydata.org/pandas-docs/stable/indexing.html#indexing-view-versus-copy\n",
      "  \n"
     ]
    }
   ],
   "source": [
    "ordine = vincitore.isin(list(scommesse.Scelta))\n",
    "primo = np.where(ordine)[0][0]\n",
    "scom_giusta = vincitore.iloc[primo][0]\n",
    "if primo == 0:\n",
    "        scommesse.Punteggio[scommesse.Scelta == scom_giusta] = 1\n",
    "else:\n",
    "        scommesse.Punteggio[scommesse.Scelta == scom_giusta] = 0.5\n",
    "scommesse.Punteggio[scommesse.Jolly.isin(['A'])] = scommesse.Punteggio[scommesse.Jolly.isin(['A'])] * 2\n",
    "F = 1\n",
    "if F == 1:\n",
    "    scommesse.Punteggio[scommesse.Jolly.isin(['F'])] = 0.5 "
   ]
  },
  {
   "cell_type": "code",
   "execution_count": 5,
   "metadata": {},
   "outputs": [
    {
     "data": {
      "text/html": [
       "<div>\n",
       "<style scoped>\n",
       "    .dataframe tbody tr th:only-of-type {\n",
       "        vertical-align: middle;\n",
       "    }\n",
       "\n",
       "    .dataframe tbody tr th {\n",
       "        vertical-align: top;\n",
       "    }\n",
       "\n",
       "    .dataframe thead th {\n",
       "        text-align: right;\n",
       "    }\n",
       "</style>\n",
       "<table border=\"1\" class=\"dataframe\">\n",
       "  <thead>\n",
       "    <tr style=\"text-align: right;\">\n",
       "      <th></th>\n",
       "      <th>Tempo</th>\n",
       "      <th>Concorrente</th>\n",
       "      <th>Jolly</th>\n",
       "      <th>Scelta</th>\n",
       "      <th>Secondascelta</th>\n",
       "      <th>Punteggio</th>\n",
       "    </tr>\n",
       "  </thead>\n",
       "  <tbody>\n",
       "    <tr>\n",
       "      <th>12</th>\n",
       "      <td>2019/05/12 2:23:07 PM EET</td>\n",
       "      <td>Ago</td>\n",
       "      <td>NaN</td>\n",
       "      <td>ROGLIC Primoz</td>\n",
       "      <td>NaN</td>\n",
       "      <td>1</td>\n",
       "    </tr>\n",
       "    <tr>\n",
       "      <th>0</th>\n",
       "      <td>2019/05/12 2:05:49 PM EET</td>\n",
       "      <td>Bassa</td>\n",
       "      <td>NaN</td>\n",
       "      <td>ROGLIC Primoz</td>\n",
       "      <td>NaN</td>\n",
       "      <td>1</td>\n",
       "    </tr>\n",
       "    <tr>\n",
       "      <th>6</th>\n",
       "      <td>2019/05/12 2:12:50 PM EET</td>\n",
       "      <td>Coda</td>\n",
       "      <td>B</td>\n",
       "      <td>ROGLIC Primoz</td>\n",
       "      <td>ROGLIC Primoz</td>\n",
       "      <td>1</td>\n",
       "    </tr>\n",
       "    <tr>\n",
       "      <th>7</th>\n",
       "      <td>2019/05/12 2:13:00 PM EET</td>\n",
       "      <td>Gabriele</td>\n",
       "      <td>NaN</td>\n",
       "      <td>NaN</td>\n",
       "      <td>NaN</td>\n",
       "      <td>0</td>\n",
       "    </tr>\n",
       "    <tr>\n",
       "      <th>8</th>\n",
       "      <td>2019/05/12 2:13:07 PM EET</td>\n",
       "      <td>Marco</td>\n",
       "      <td>NaN</td>\n",
       "      <td>NaN</td>\n",
       "      <td>NaN</td>\n",
       "      <td>0</td>\n",
       "    </tr>\n",
       "    <tr>\n",
       "      <th>13</th>\n",
       "      <td>2019/05/12 9:25:00 PM EET</td>\n",
       "      <td>Max</td>\n",
       "      <td>NaN</td>\n",
       "      <td>ROGLIC Primoz</td>\n",
       "      <td>NaN</td>\n",
       "      <td>1</td>\n",
       "    </tr>\n",
       "    <tr>\n",
       "      <th>2</th>\n",
       "      <td>2019/05/12 2:07:51 PM EET</td>\n",
       "      <td>Nico</td>\n",
       "      <td>B</td>\n",
       "      <td>ROGLIC Primoz</td>\n",
       "      <td>ROGLIC Primoz</td>\n",
       "      <td>1</td>\n",
       "    </tr>\n",
       "    <tr>\n",
       "      <th>9</th>\n",
       "      <td>2019/05/12 2:13:37 PM EET</td>\n",
       "      <td>Palu</td>\n",
       "      <td>A</td>\n",
       "      <td>ROGLIC Primoz</td>\n",
       "      <td>NaN</td>\n",
       "      <td>2</td>\n",
       "    </tr>\n",
       "    <tr>\n",
       "      <th>10</th>\n",
       "      <td>2019/05/12 2:13:59 PM EET</td>\n",
       "      <td>Polli</td>\n",
       "      <td>NaN</td>\n",
       "      <td>ROGLIC Primoz</td>\n",
       "      <td>NaN</td>\n",
       "      <td>1</td>\n",
       "    </tr>\n",
       "    <tr>\n",
       "      <th>1</th>\n",
       "      <td>2019/05/12 2:07:15 PM EET</td>\n",
       "      <td>Pozzo</td>\n",
       "      <td>B</td>\n",
       "      <td>ROGLIC Primoz</td>\n",
       "      <td>DUMOULIN Tom</td>\n",
       "      <td>1</td>\n",
       "    </tr>\n",
       "    <tr>\n",
       "      <th>4</th>\n",
       "      <td>2019/05/12 2:09:10 PM EET</td>\n",
       "      <td>Sheva</td>\n",
       "      <td>NaN</td>\n",
       "      <td>ROGLIC Primoz</td>\n",
       "      <td>NaN</td>\n",
       "      <td>1</td>\n",
       "    </tr>\n",
       "    <tr>\n",
       "      <th>3</th>\n",
       "      <td>2019/05/12 2:08:54 PM EET</td>\n",
       "      <td>Sticcio</td>\n",
       "      <td>NaN</td>\n",
       "      <td>ROGLIC Primoz</td>\n",
       "      <td>NaN</td>\n",
       "      <td>1</td>\n",
       "    </tr>\n",
       "    <tr>\n",
       "      <th>11</th>\n",
       "      <td>2019/05/12 2:14:15 PM EET</td>\n",
       "      <td>Tia</td>\n",
       "      <td>NaN</td>\n",
       "      <td>ROGLIC Primoz</td>\n",
       "      <td>NaN</td>\n",
       "      <td>1</td>\n",
       "    </tr>\n",
       "    <tr>\n",
       "      <th>5</th>\n",
       "      <td>2019/05/12 2:09:33 PM EET</td>\n",
       "      <td>Tina</td>\n",
       "      <td>NaN</td>\n",
       "      <td>DUMOULIN Tom</td>\n",
       "      <td>NaN</td>\n",
       "      <td>0</td>\n",
       "    </tr>\n",
       "  </tbody>\n",
       "</table>\n",
       "</div>"
      ],
      "text/plain": [
       "                        Tempo Concorrente Jolly         Scelta  Secondascelta  \\\n",
       "12  2019/05/12 2:23:07 PM EET         Ago   NaN  ROGLIC Primoz            NaN   \n",
       "0   2019/05/12 2:05:49 PM EET       Bassa   NaN  ROGLIC Primoz            NaN   \n",
       "6   2019/05/12 2:12:50 PM EET        Coda     B  ROGLIC Primoz  ROGLIC Primoz   \n",
       "7   2019/05/12 2:13:00 PM EET    Gabriele   NaN            NaN            NaN   \n",
       "8   2019/05/12 2:13:07 PM EET       Marco   NaN            NaN            NaN   \n",
       "13  2019/05/12 9:25:00 PM EET         Max   NaN  ROGLIC Primoz            NaN   \n",
       "2   2019/05/12 2:07:51 PM EET        Nico     B  ROGLIC Primoz  ROGLIC Primoz   \n",
       "9   2019/05/12 2:13:37 PM EET        Palu     A  ROGLIC Primoz            NaN   \n",
       "10  2019/05/12 2:13:59 PM EET       Polli   NaN  ROGLIC Primoz            NaN   \n",
       "1   2019/05/12 2:07:15 PM EET       Pozzo     B  ROGLIC Primoz   DUMOULIN Tom   \n",
       "4   2019/05/12 2:09:10 PM EET       Sheva   NaN  ROGLIC Primoz            NaN   \n",
       "3   2019/05/12 2:08:54 PM EET     Sticcio   NaN  ROGLIC Primoz            NaN   \n",
       "11  2019/05/12 2:14:15 PM EET         Tia   NaN  ROGLIC Primoz            NaN   \n",
       "5   2019/05/12 2:09:33 PM EET        Tina   NaN   DUMOULIN Tom            NaN   \n",
       "\n",
       "    Punteggio  \n",
       "12          1  \n",
       "0           1  \n",
       "6           1  \n",
       "7           0  \n",
       "8           0  \n",
       "13          1  \n",
       "2           1  \n",
       "9           2  \n",
       "10          1  \n",
       "1           1  \n",
       "4           1  \n",
       "3           1  \n",
       "11          1  \n",
       "5           0  "
      ]
     },
     "execution_count": 5,
     "metadata": {},
     "output_type": "execute_result"
    }
   ],
   "source": [
    "scommesse"
   ]
  },
  {
   "cell_type": "code",
   "execution_count": 6,
   "metadata": {},
   "outputs": [],
   "source": [
    "righe = [0] * 21\n",
    "for i in range(21):\n",
    "    righe[i] = 'Tappa ' + str(i + 1) \n",
    "\n",
    "Punti = pd.DataFrame(0, index=righe, columns=scommesse.Concorrente)"
   ]
  },
  {
   "cell_type": "code",
   "execution_count": 7,
   "metadata": {},
   "outputs": [],
   "source": [
    "Punti.loc['Tappa 1'] = list(scommesse['Punteggio'])"
   ]
  },
  {
   "cell_type": "code",
   "execution_count": 8,
   "metadata": {},
   "outputs": [],
   "source": [
    "Punti.to_csv('Punteggio.csv')"
   ]
  },
  {
   "cell_type": "code",
   "execution_count": 9,
   "metadata": {},
   "outputs": [],
   "source": [
    "Jolly =  pd.DataFrame(2, index=['Jolly A', 'Jolly B', 'Jolly F'], columns=scommesse.Concorrente)\n",
    "Jolly.loc['Jolly F'] = 1"
   ]
  },
  {
   "cell_type": "code",
   "execution_count": 10,
   "metadata": {},
   "outputs": [],
   "source": [
    "(Jolly.loc['Jolly A'])[list(scommesse.Jolly.isin(['A']))] = list((Jolly.loc['Jolly A'])[list(scommesse.Jolly.isin(['A']))].subtract(1))\n",
    "(Jolly.loc['Jolly B'])[list(scommesse.Jolly.isin(['B']))] = list((Jolly.loc['Jolly B'])[list(scommesse.Jolly.isin(['B']))].subtract(1))\n",
    "(Jolly.loc['Jolly F'])[list(scommesse.Jolly.isin(['F']))] = list((Jolly.loc['Jolly F'])[list(scommesse.Jolly.isin(['F']))].subtract(1))"
   ]
  },
  {
   "cell_type": "code",
   "execution_count": 11,
   "metadata": {},
   "outputs": [],
   "source": [
    "Jolly.to_csv('Jolly.csv')"
   ]
  }
 ],
 "metadata": {
  "kernelspec": {
   "display_name": "Python 3",
   "language": "python",
   "name": "python3"
  },
  "language_info": {
   "codemirror_mode": {
    "name": "ipython",
    "version": 3
   },
   "file_extension": ".py",
   "mimetype": "text/x-python",
   "name": "python",
   "nbconvert_exporter": "python",
   "pygments_lexer": "ipython3",
   "version": "3.7.0"
  }
 },
 "nbformat": 4,
 "nbformat_minor": 2
}
